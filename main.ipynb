{
 "cells": [
  {
   "cell_type": "code",
   "execution_count": 26,
   "id": "34b124f5-0033-454a-9d4f-fe349ae4293e",
   "metadata": {},
   "outputs": [],
   "source": [
    "import csv\n",
    "import matplotlib.pyplot as plt\n",
    "import numpy as np\n",
    "import tensorflow as tf\n",
    "from tensorflow.keras.optimizers import RMSprop\n",
    "from tensorflow.keras.preprocessing.sequence import pad_sequences\n",
    "from tensorflow.keras.preprocessing.text import Tokenizer\n",
    "import wget"
   ]
  },
  {
   "cell_type": "code",
   "execution_count": 2,
   "id": "5a8a7d69-75f0-4ba8-b68e-19ea80e915d1",
   "metadata": {},
   "outputs": [],
   "source": [
    "# Download the csv file and save inside the main folder of the repository\n",
    "url = 'https://storage.googleapis.com/laurencemoroney-blog.appspot.com/bbc-text.csv'\n",
    "#wget.download(url, 'data/bbc.csv')"
   ]
  },
  {
   "cell_type": "code",
   "execution_count": 3,
   "id": "a9a447be-1755-4d60-8651-ba5a37afe668",
   "metadata": {},
   "outputs": [],
   "source": [
    "# Stop words taken from https://github.com/Yoast/YoastSEO.js/blob/develop/src/config/stopwords.js\n",
    "\n",
    "stopwords = [ \"a\", \"about\", \"above\", \"after\", \"again\", \"against\", \"all\", \"am\", \"an\", \"and\",\n",
    "             \"any\", \"are\", \"as\", \"at\", \"be\", \"because\", \"been\", \"before\", \"being\", \"below\",\n",
    "             \"between\", \"both\", \"but\", \"by\", \"could\", \"did\", \"do\", \"does\", \"doing\", \"down\",\n",
    "             \"during\", \"each\", \"few\", \"for\", \"from\", \"further\", \"had\", \"has\", \"have\", \"having\",\n",
    "             \"he\", \"he'd\", \"he'll\", \"he's\", \"her\", \"here\", \"here's\", \"hers\", \"herself\", \"him\",\n",
    "             \"himself\", \"his\", \"how\", \"how's\", \"i\", \"i'd\", \"i'll\", \"i'm\", \"i've\", \"if\", \"in\",\n",
    "             \"into\", \"is\", \"it\", \"it's\", \"its\", \"itself\", \"let's\", \"me\", \"more\", \"most\", \"my\",\n",
    "             \"myself\", \"nor\", \"of\", \"on\", \"once\", \"only\", \"or\", \"other\", \"ought\", \"our\", \"ours\",\n",
    "             \"ourselves\", \"out\", \"over\", \"own\", \"same\", \"she\", \"she'd\", \"she'll\", \"she's\",\n",
    "             \"should\", \"so\", \"some\", \"such\", \"than\", \"that\", \"that's\", \"the\", \"their\", \"theirs\",\n",
    "             \"them\", \"themselves\", \"then\", \"there\", \"there's\", \"these\", \"they\", \"they'd\", \"they'll\",\n",
    "             \"they're\", \"they've\", \"this\", \"those\", \"through\", \"to\", \"too\", \"under\", \"until\", \"up\",\n",
    "             \"very\", \"was\", \"we\", \"we'd\", \"we'll\", \"we're\", \"we've\", \"were\", \"what\", \"what's\",\n",
    "             \"when\", \"when's\", \"where\", \"where's\", \"which\", \"while\", \"who\", \"who's\", \"whom\", \"why\",\n",
    "             \"why's\", \"with\", \"would\", \"you\",\"you'd\", \"you'll\", \"you're\", \"you've\", \"your\", \"yours\",\n",
    "             \"yourself\", \"yourselves\" ]"
   ]
  },
  {
   "cell_type": "code",
   "execution_count": 4,
   "id": "c1a1d714-8685-4f02-af0b-63011206e178",
   "metadata": {},
   "outputs": [],
   "source": [
    "# iterate through the csv file, and separate the entries into labels and text\n",
    "text = []\n",
    "labels = []\n",
    "with open('data/bbc.csv') as csvfile:\n",
    "    rawdata = csv.reader(csvfile, delimiter=\",\")\n",
    "    next(rawdata)\n",
    "    for row in rawdata:\n",
    "        labels.append(row[0])\n",
    "        article = row[1]\n",
    "        for word in stopwords:\n",
    "            # separate out each word explicitly to prevent removing these parts of non stop words\n",
    "            drop_stop_words = \" \" + word + \" \"\n",
    "            article = article.replace(drop_stop_words, \" \")\n",
    "            article = article.replace(\"  \",\" \")\n",
    "        text.append(article)"
   ]
  },
  {
   "cell_type": "code",
   "execution_count": 5,
   "id": "b447b6ed-affa-4787-b5a3-d809c75bb231",
   "metadata": {},
   "outputs": [
    {
     "name": "stdout",
     "output_type": "stream",
     "text": [
      "2225\n",
      "2225\n",
      "tv future hands viewers home theatre systems plasma high-definition tvs digital video recorders moving living room way people watch tv will radically different five years time. according expert panel gathered annual consumer electronics show las vegas discuss new technologies will impact one favourite pastimes. us leading trend programmes content will delivered viewers via home networks cable satellite telecoms companies broadband service providers front rooms portable devices. one talked-about technologies ces digital personal video recorders (dvr pvr). set-top boxes like us s tivo uk s sky+ system allow people record store play pause forward wind tv programmes want. essentially technology allows much personalised tv. also built-in high-definition tv sets big business japan us slower take off europe lack high-definition programming. not can people forward wind adverts can also forget abiding network channel schedules putting together a-la-carte entertainment. us networks cable satellite companies worried means terms advertising revenues well brand identity viewer loyalty channels. although us leads technology moment also concern raised europe particularly growing uptake services like sky+. happens today will see nine months years time uk adam hume bbc broadcast s futurologist told bbc news website. likes bbc no issues lost advertising revenue yet. pressing issue moment commercial uk broadcasters brand loyalty important everyone. will talking content brands rather network brands said tim hanlon brand communications firm starcom mediavest. reality broadband connections anybody can producer content. added: challenge now hard promote programme much choice. means said stacey jolna senior vice president tv guide tv group way people find content want watch simplified tv viewers. means networks us terms channels take leaf google s book search engine future instead scheduler help people find want watch. kind channel model might work younger ipod generation used taking control gadgets play them. might not suit everyone panel recognised. older generations comfortable familiar schedules channel brands know getting. perhaps not want much choice put hands mr hanlon suggested. end kids just diapers pushing buttons already - everything possible available said mr hanlon. ultimately consumer will tell market want. 50 000 new gadgets technologies showcased ces many enhancing tv-watching experience. high-definition tv sets everywhere many new models lcd (liquid crystal display) tvs launched dvr capability built instead external boxes. one example launched show humax s 26-inch lcd tv 80-hour tivo dvr dvd recorder. one us s biggest satellite tv companies directtv even launched branded dvr show 100-hours recording capability instant replay search function. set can pause rewind tv 90 hours. microsoft chief bill gates announced pre-show keynote speech partnership tivo called tivotogo means people can play recorded programmes windows pcs mobile devices. reflect increasing trend freeing multimedia people can watch want want.\n"
     ]
    }
   ],
   "source": [
    "# verify lists were created properly\n",
    "print(len(text))\n",
    "print(len(labels))\n",
    "print(text[0])"
   ]
  },
  {
   "cell_type": "code",
   "execution_count": 97,
   "id": "33e47571-0357-4d32-b2c0-4cf7102a9980",
   "metadata": {},
   "outputs": [],
   "source": [
    "# standardize dimensions that will be used to tokenize the text and create sequences\n",
    "vocabulary_size = 20000\n",
    "embedding_dimension = 16\n",
    "max_length = 800\n",
    "truncation_type = 'post'\n",
    "padding_type = 'post'\n",
    "oov_tok = '<OOV>'\n",
    "training_portion = 0.8\n",
    "split_size = int(len(text) * training_portion)"
   ]
  },
  {
   "cell_type": "code",
   "execution_count": 98,
   "id": "2e42443f-8a3d-409c-8470-b7fd92764206",
   "metadata": {},
   "outputs": [
    {
     "name": "stdout",
     "output_type": "stream",
     "text": [
      "1780\n",
      "1780\n",
      "1780\n",
      "445\n",
      "445\n"
     ]
    }
   ],
   "source": [
    "# split the data into training and validation sets\n",
    "training_text = text[0:split_size]\n",
    "training_labels = labels[0:split_size]\n",
    "\n",
    "validation_text = text[split_size:]\n",
    "validation_labels = labels[split_size:]\n",
    "\n",
    "#verify split worked as intended\n",
    "print(split_size)\n",
    "print(len(training_text))\n",
    "print(len(training_labels))\n",
    "print(len(validation_text))\n",
    "print(len(validation_labels))"
   ]
  },
  {
   "cell_type": "code",
   "execution_count": 99,
   "id": "58900660-dba2-4255-8b70-a5fcf86869d7",
   "metadata": {},
   "outputs": [
    {
     "name": "stdout",
     "output_type": "stream",
     "text": [
      "27285\n"
     ]
    }
   ],
   "source": [
    "# using tensorflow, create an index of words used in the training data\n",
    "tokenizer = Tokenizer(num_words = vocabulary_size,\n",
    "                      oov_token = oov_tok)\n",
    "tokenizer.fit_on_texts(training_text)\n",
    "word_list = tokenizer.word_index\n",
    "print(len(word_list))"
   ]
  },
  {
   "cell_type": "code",
   "execution_count": 100,
   "id": "ab688331-e814-4255-8f26-af283a95a923",
   "metadata": {},
   "outputs": [
    {
     "name": "stdout",
     "output_type": "stream",
     "text": [
      "(1780, 800)\n",
      "(445, 800)\n"
     ]
    }
   ],
   "source": [
    "# convert each article into a standard length numeric sequence \n",
    "training_sequences = tokenizer.texts_to_sequences(training_text)\n",
    "padded_training = pad_sequences(training_sequences,\n",
    "                               maxlen = max_length,\n",
    "                               truncating = truncation_type)\n",
    "\n",
    "validation_sequences = tokenizer.texts_to_sequences(validation_text)\n",
    "padded_validation = pad_sequences(validation_sequences,\n",
    "                               maxlen = max_length,\n",
    "                               truncating = truncation_type)\n",
    "\n",
    "print(padded_training.shape)\n",
    "print(padded_validation.shape)"
   ]
  },
  {
   "cell_type": "code",
   "execution_count": 101,
   "id": "44c75d1e-20e7-498f-9330-aa81143530a7",
   "metadata": {},
   "outputs": [
    {
     "name": "stdout",
     "output_type": "stream",
     "text": [
      "{'sport': 1, 'business': 2, 'politics': 3, 'tech': 4, 'entertainment': 5}\n",
      "[[4]\n",
      " [2]\n",
      " [1]\n",
      " [1]\n",
      " [5]]\n",
      "(1780, 1)\n",
      "[[5]\n",
      " [4]\n",
      " [3]\n",
      " [1]\n",
      " [1]]\n",
      "(445, 1)\n"
     ]
    }
   ],
   "source": [
    "# convert labels into numbers\n",
    "tokenize_labels = Tokenizer()\n",
    "tokenize_labels.fit_on_texts(labels)\n",
    "\n",
    "labels_index = tokenize_labels.word_index\n",
    "print(labels_index)\n",
    "numeric_training_labels = np.array(tokenize_labels.texts_to_sequences(training_labels))\n",
    "numeric_validation_labels = np.array(tokenize_labels.texts_to_sequences(validation_labels))\n",
    "\n",
    "print(numeric_training_labels[0:5])\n",
    "print(numeric_training_labels.shape)\n",
    "print(numeric_validation_labels[0:5])\n",
    "print(numeric_validation_labels.shape)"
   ]
  },
  {
   "cell_type": "code",
   "execution_count": 102,
   "id": "f3b44fa7-504e-44ce-8e62-e279ff1b1ab8",
   "metadata": {},
   "outputs": [
    {
     "name": "stdout",
     "output_type": "stream",
     "text": [
      "Model: \"sequential_24\"\n",
      "_________________________________________________________________\n",
      "Layer (type)                 Output Shape              Param #   \n",
      "=================================================================\n",
      "embedding_24 (Embedding)     (None, 800, 16)           320000    \n",
      "_________________________________________________________________\n",
      "global_average_pooling1d_24  (None, 16)                0         \n",
      "_________________________________________________________________\n",
      "dense_48 (Dense)             (None, 32)                544       \n",
      "_________________________________________________________________\n",
      "dense_49 (Dense)             (None, 6)                 198       \n",
      "=================================================================\n",
      "Total params: 320,742\n",
      "Trainable params: 320,742\n",
      "Non-trainable params: 0\n",
      "_________________________________________________________________\n"
     ]
    }
   ],
   "source": [
    "# Training model\n",
    "model = tf.keras.Sequential([\n",
    "    tf.keras.layers.Embedding(vocabulary_size, embedding_dimension, input_length = max_length),\n",
    "    tf.keras.layers.GlobalAveragePooling1D(),\n",
    "    tf.keras.layers.Dense(32, activation ='relu'),\n",
    "    tf.keras.layers.Dense(6, activation = 'softmax')\n",
    "])\n",
    "\n",
    "model.compile(loss = 'sparse_categorical_crossentropy',\n",
    "              optimizer = RMSprop(learning_rate=0.08),\n",
    "              metrics = ['accuracy'])\n",
    "\n",
    "model.summary()"
   ]
  },
  {
   "cell_type": "code",
   "execution_count": 103,
   "id": "1a9f70a4-5fca-413c-91e2-44d9e809cfdb",
   "metadata": {},
   "outputs": [
    {
     "name": "stdout",
     "output_type": "stream",
     "text": [
      "Epoch 1/30\n",
      "1/1 [==============================] - 1s 568ms/step - loss: 1.7946 - accuracy: 5.6180e-04 - val_loss: 1.7112 - val_accuracy: 0.2966\n",
      "Epoch 2/30\n",
      "1/1 [==============================] - 0s 130ms/step - loss: 1.6965 - accuracy: 0.3213 - val_loss: 4.1510 - val_accuracy: 0.2382\n",
      "Epoch 3/30\n",
      "1/1 [==============================] - 0s 142ms/step - loss: 4.0431 - accuracy: 0.2270 - val_loss: 1.7167 - val_accuracy: 0.2404\n",
      "Epoch 4/30\n",
      "1/1 [==============================] - 0s 142ms/step - loss: 1.6418 - accuracy: 0.2601 - val_loss: 1.5686 - val_accuracy: 0.1955\n",
      "Epoch 5/30\n",
      "1/1 [==============================] - 0s 140ms/step - loss: 1.5452 - accuracy: 0.2011 - val_loss: 1.4949 - val_accuracy: 0.1978\n",
      "Epoch 6/30\n",
      "1/1 [==============================] - 0s 138ms/step - loss: 1.4625 - accuracy: 0.2011 - val_loss: 1.5038 - val_accuracy: 0.2921\n",
      "Epoch 7/30\n",
      "1/1 [==============================] - 0s 138ms/step - loss: 1.3579 - accuracy: 0.3685 - val_loss: 2.2945 - val_accuracy: 0.2449\n",
      "Epoch 8/30\n",
      "1/1 [==============================] - 0s 136ms/step - loss: 2.1932 - accuracy: 0.2663 - val_loss: 1.4804 - val_accuracy: 0.5461\n",
      "Epoch 9/30\n",
      "1/1 [==============================] - 0s 140ms/step - loss: 1.3200 - accuracy: 0.6337 - val_loss: 1.3859 - val_accuracy: 0.3438\n",
      "Epoch 10/30\n",
      "1/1 [==============================] - 0s 136ms/step - loss: 1.2142 - accuracy: 0.4225 - val_loss: 2.0390 - val_accuracy: 0.3393\n",
      "Epoch 11/30\n",
      "1/1 [==============================] - 0s 136ms/step - loss: 1.7986 - accuracy: 0.4045 - val_loss: 1.8579 - val_accuracy: 0.3573\n",
      "Epoch 12/30\n",
      "1/1 [==============================] - 0s 143ms/step - loss: 1.8136 - accuracy: 0.3607 - val_loss: 1.2162 - val_accuracy: 0.5798\n",
      "Epoch 13/30\n",
      "1/1 [==============================] - 0s 146ms/step - loss: 1.0149 - accuracy: 0.6556 - val_loss: 0.6745 - val_accuracy: 0.8449\n",
      "Epoch 14/30\n",
      "1/1 [==============================] - 0s 142ms/step - loss: 0.5170 - accuracy: 0.9348 - val_loss: 0.5883 - val_accuracy: 0.8022\n",
      "Epoch 15/30\n",
      "1/1 [==============================] - 0s 142ms/step - loss: 0.4134 - accuracy: 0.9062 - val_loss: 0.4797 - val_accuracy: 0.9011\n",
      "Epoch 16/30\n",
      "1/1 [==============================] - 0s 131ms/step - loss: 0.3403 - accuracy: 0.9494 - val_loss: 0.4484 - val_accuracy: 0.8404\n",
      "Epoch 17/30\n",
      "1/1 [==============================] - 0s 141ms/step - loss: 0.2859 - accuracy: 0.9444 - val_loss: 0.4281 - val_accuracy: 0.8876\n",
      "Epoch 18/30\n",
      "1/1 [==============================] - 0s 140ms/step - loss: 0.2864 - accuracy: 0.9253 - val_loss: 0.4188 - val_accuracy: 0.8607\n",
      "Epoch 19/30\n",
      "1/1 [==============================] - 0s 136ms/step - loss: 0.2232 - accuracy: 0.9444 - val_loss: 0.3328 - val_accuracy: 0.9101\n",
      "Epoch 20/30\n",
      "1/1 [==============================] - 0s 145ms/step - loss: 0.1629 - accuracy: 0.9798 - val_loss: 0.2552 - val_accuracy: 0.9213\n",
      "Epoch 21/30\n",
      "1/1 [==============================] - 0s 142ms/step - loss: 0.1024 - accuracy: 0.9904 - val_loss: 0.1987 - val_accuracy: 0.9618\n",
      "Epoch 22/30\n",
      "1/1 [==============================] - 0s 134ms/step - loss: 0.0724 - accuracy: 0.9961 - val_loss: 0.1805 - val_accuracy: 0.9708\n",
      "Epoch 23/30\n",
      "1/1 [==============================] - 0s 134ms/step - loss: 0.0594 - accuracy: 0.9978 - val_loss: 0.1758 - val_accuracy: 0.9640\n",
      "Epoch 24/30\n",
      "1/1 [==============================] - 0s 155ms/step - loss: 0.0476 - accuracy: 0.9983 - val_loss: 0.1555 - val_accuracy: 0.9708\n",
      "Epoch 25/30\n",
      "1/1 [==============================] - 0s 148ms/step - loss: 0.0376 - accuracy: 0.9994 - val_loss: 0.1472 - val_accuracy: 0.9708\n",
      "Epoch 26/30\n",
      "1/1 [==============================] - 0s 132ms/step - loss: 0.0309 - accuracy: 1.0000 - val_loss: 0.1392 - val_accuracy: 0.9730\n",
      "Epoch 27/30\n",
      "1/1 [==============================] - 0s 135ms/step - loss: 0.0257 - accuracy: 1.0000 - val_loss: 0.1326 - val_accuracy: 0.9730\n",
      "Epoch 28/30\n",
      "1/1 [==============================] - 0s 139ms/step - loss: 0.0216 - accuracy: 1.0000 - val_loss: 0.1269 - val_accuracy: 0.9753\n",
      "Epoch 29/30\n",
      "1/1 [==============================] - 0s 140ms/step - loss: 0.0184 - accuracy: 1.0000 - val_loss: 0.1221 - val_accuracy: 0.9753\n",
      "Epoch 30/30\n",
      "1/1 [==============================] - 0s 130ms/step - loss: 0.0158 - accuracy: 1.0000 - val_loss: 0.1179 - val_accuracy: 0.9753\n"
     ]
    }
   ],
   "source": [
    "# Training execution\n",
    "number_epochs = 30\n",
    "history = model.fit(padded_training, numeric_training_labels,\n",
    "                    validation_data = (padded_validation, numeric_validation_labels),\n",
    "                    epochs = number_epochs, batch_size=1780)"
   ]
  },
  {
   "cell_type": "code",
   "execution_count": 104,
   "id": "cf69482f-fbeb-4c24-a277-f6909bde0a25",
   "metadata": {},
   "outputs": [
    {
     "data": {
      "image/png": "[encoded data removed]",
      "text/plain": [
       "<Figure size 432x288 with 1 Axes>"
      ]
     },
     "metadata": {
      "needs_background": "light"
     },
     "output_type": "display_data"
    },
    {
     "data": {
      "image/png": "[encoded data removed]",
      "text/plain": [
       "<Figure size 432x288 with 1 Axes>"
      ]
     },
     "metadata": {
      "needs_background": "light"
     },
     "output_type": "display_data"
    }
   ],
   "source": [
    "# This code taken directly from \"Laurence Mahoney, Course 3 - Week 2 - Exercise\"\n",
    "def plot_graphs(history, string):\n",
    "    plt.plot(history.history[string])\n",
    "    plt.plot(history.history['val_'+string])\n",
    "    plt.xlabel(\"Epochs\")\n",
    "    plt.ylabel(string)\n",
    "    plt.legend([string, 'val_'+string])\n",
    "    plt.show()\n",
    "  \n",
    "plot_graphs(history, \"accuracy\")\n",
    "plot_graphs(history, \"loss\")"
   ]
  },
  {
   "cell_type": "code",
   "execution_count": null,
   "id": "ce22e258-ec01-4855-9314-b1391fc51202",
   "metadata": {},
   "outputs": [],
   "source": []
  }
 ],
 "metadata": {
  "kernelspec": {
   "display_name": "Python 3",
   "language": "python",
   "name": "python3"
  },
  "language_info": {
   "codemirror_mode": {
    "name": "ipython",
    "version": 3
   },
   "file_extension": ".py",
   "mimetype": "text/x-python",
   "name": "python",
   "nbconvert_exporter": "python",
   "pygments_lexer": "ipython3",
   "version": "3.8.10"
  }
 },
 "nbformat": 4,
 "nbformat_minor": 5
}
