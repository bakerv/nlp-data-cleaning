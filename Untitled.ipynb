{
 "cells": [
  {
   "cell_type": "code",
   "execution_count": 51,
   "id": "34b124f5-0033-454a-9d4f-fe349ae4293e",
   "metadata": {},
   "outputs": [],
   "source": [
    "import wget\n",
    "import csv\n",
    "from tensorflow.keras.preprocessing.text import Tokenizer\n",
    "from tensorflow.keras.preprocessing.sequence import pad_sequences"
   ]
  },
  {
   "cell_type": "code",
   "execution_count": 33,
   "id": "5a8a7d69-75f0-4ba8-b68e-19ea80e915d1",
   "metadata": {},
   "outputs": [
    {
     "data": {
      "text/plain": [
       "'data/bbc.csv'"
      ]
     },
     "execution_count": 33,
     "metadata": {},
     "output_type": "execute_result"
    }
   ],
   "source": [
    "# Download the csv file and save inside the main folder of the repository\n",
    "url = 'https://storage.googleapis.com/laurencemoroney-blog.appspot.com/bbc-text.csv'\n",
    "wget.download(url, 'data/bbc.csv')"
   ]
  },
  {
   "cell_type": "code",
   "execution_count": 39,
   "id": "a9a447be-1755-4d60-8651-ba5a37afe668",
   "metadata": {},
   "outputs": [],
   "source": [
    "# Stop words taken from https://github.com/Yoast/YoastSEO.js/blob/develop/src/config/stopwords.js\n",
    "\n",
    "stopwords = [ \"a\", \"about\", \"above\", \"after\", \"again\", \"against\", \"all\", \"am\", \"an\", \"and\",\n",
    "             \"any\", \"are\", \"as\", \"at\", \"be\", \"because\", \"been\", \"before\", \"being\", \"below\",\n",
    "             \"between\", \"both\", \"but\", \"by\", \"could\", \"did\", \"do\", \"does\", \"doing\", \"down\",\n",
    "             \"during\", \"each\", \"few\", \"for\", \"from\", \"further\", \"had\", \"has\", \"have\", \"having\",\n",
    "             \"he\", \"he'd\", \"he'll\", \"he's\", \"her\", \"here\", \"here's\", \"hers\", \"herself\", \"him\",\n",
    "             \"himself\", \"his\", \"how\", \"how's\", \"i\", \"i'd\", \"i'll\", \"i'm\", \"i've\", \"if\", \"in\",\n",
    "             \"into\", \"is\", \"it\", \"it's\", \"its\", \"itself\", \"let's\", \"me\", \"more\", \"most\", \"my\",\n",
    "             \"myself\", \"nor\", \"of\", \"on\", \"once\", \"only\", \"or\", \"other\", \"ought\", \"our\", \"ours\",\n",
    "             \"ourselves\", \"out\", \"over\", \"own\", \"same\", \"she\", \"she'd\", \"she'll\", \"she's\",\n",
    "             \"should\", \"so\", \"some\", \"such\", \"than\", \"that\", \"that's\", \"the\", \"their\", \"theirs\",\n",
    "             \"them\", \"themselves\", \"then\", \"there\", \"there's\", \"these\", \"they\", \"they'd\", \"they'll\",\n",
    "             \"they're\", \"they've\", \"this\", \"those\", \"through\", \"to\", \"too\", \"under\", \"until\", \"up\",\n",
    "             \"very\", \"was\", \"we\", \"we'd\", \"we'll\", \"we're\", \"we've\", \"were\", \"what\", \"what's\",\n",
    "             \"when\", \"when's\", \"where\", \"where's\", \"which\", \"while\", \"who\", \"who's\", \"whom\", \"why\",\n",
    "             \"why's\", \"with\", \"would\", \"you\",\"you'd\", \"you'll\", \"you're\", \"you've\", \"your\", \"yours\",\n",
    "             \"yourself\", \"yourselves\" ]"
   ]
  },
  {
   "cell_type": "code",
   "execution_count": 63,
   "id": "c1a1d714-8685-4f02-af0b-63011206e178",
   "metadata": {},
   "outputs": [],
   "source": [
    "# iterate through the csv file, and separate the entries into labels and text\n",
    "text = []\n",
    "labels = []\n",
    "with open('data/bbc.csv') as csvfile:\n",
    "    rawdata = csv.reader(csvfile, delimiter=\",\")\n",
    "    next(rawdata)\n",
    "    for row in rawdata:\n",
    "        labels.append(row[0])\n",
    "        article = row[1]\n",
    "        for word in stopwords:\n",
    "            drop_stop_words = \" \" + word + \" \"\n",
    "            article = article.replace(drop_stop_words, \" \")\n",
    "            article = article.replace(\"  \",\" \")\n",
    "        text.append(article)"
   ]
  },
  {
   "cell_type": "code",
   "execution_count": 64,
   "id": "b447b6ed-affa-4787-b5a3-d809c75bb231",
   "metadata": {},
   "outputs": [
    {
     "name": "stdout",
     "output_type": "stream",
     "text": [
      "2225\n",
      "tv future hands viewers home theatre systems plasma high-definition tvs digital video recorders moving living room way people watch tv will radically different five years time. according expert panel gathered annual consumer electronics show las vegas discuss new technologies will impact one favourite pastimes. us leading trend programmes content will delivered viewers via home networks cable satellite telecoms companies broadband service providers front rooms portable devices. one talked-about technologies ces digital personal video recorders (dvr pvr). set-top boxes like us s tivo uk s sky+ system allow people record store play pause forward wind tv programmes want. essentially technology allows much personalised tv. also built-in high-definition tv sets big business japan us slower take off europe lack high-definition programming. not can people forward wind adverts can also forget abiding network channel schedules putting together a-la-carte entertainment. us networks cable satellite companies worried means terms advertising revenues well brand identity viewer loyalty channels. although us leads technology moment also concern raised europe particularly growing uptake services like sky+. happens today will see nine months years time uk adam hume bbc broadcast s futurologist told bbc news website. likes bbc no issues lost advertising revenue yet. pressing issue moment commercial uk broadcasters brand loyalty important everyone. will talking content brands rather network brands said tim hanlon brand communications firm starcom mediavest. reality broadband connections anybody can producer content. added: challenge now hard promote programme much choice. means said stacey jolna senior vice president tv guide tv group way people find content want watch simplified tv viewers. means networks us terms channels take leaf google s book search engine future instead scheduler help people find want watch. kind channel model might work younger ipod generation used taking control gadgets play them. might not suit everyone panel recognised. older generations comfortable familiar schedules channel brands know getting. perhaps not want much choice put hands mr hanlon suggested. end kids just diapers pushing buttons already - everything possible available said mr hanlon. ultimately consumer will tell market want. 50 000 new gadgets technologies showcased ces many enhancing tv-watching experience. high-definition tv sets everywhere many new models lcd (liquid crystal display) tvs launched dvr capability built instead external boxes. one example launched show humax s 26-inch lcd tv 80-hour tivo dvr dvd recorder. one us s biggest satellite tv companies directtv even launched branded dvr show 100-hours recording capability instant replay search function. set can pause rewind tv 90 hours. microsoft chief bill gates announced pre-show keynote speech partnership tivo called tivotogo means people can play recorded programmes windows pcs mobile devices. reflect increasing trend freeing multimedia people can watch want want.\n"
     ]
    }
   ],
   "source": [
    "# verify lists were created properly\n",
    "print(len(text))\n",
    "print(text[0])"
   ]
  },
  {
   "cell_type": "code",
   "execution_count": 65,
   "id": "b5b7ce7f-41f1-4322-b4db-b5d332ce5a5e",
   "metadata": {},
   "outputs": [
    {
     "name": "stdout",
     "output_type": "stream",
     "text": [
      "29714\n"
     ]
    }
   ],
   "source": [
    "# using tensorflow, create an index of words used in the data set\n",
    "tokenizer = Tokenizer(oov_token=\"<OOV>\")\n",
    "tokenizer.fit_on_texts(text)\n",
    "\n",
    "word_list = tokenizer.word_index\n",
    "print(len(word_list))"
   ]
  },
  {
   "cell_type": "code",
   "execution_count": 66,
   "id": "4911d0ce-08a2-448c-918c-b115d8b54d46",
   "metadata": {},
   "outputs": [],
   "source": [
    "# Use the index to convert the text into numeric sequences\n",
    "sequences = tokenizer.texts_to_sequences(text)\n",
    "\n",
    "#add padding to make sure each sequence is the same length\n",
    "padded = pad_sequences(sequences, padding='post')"
   ]
  },
  {
   "cell_type": "code",
   "execution_count": 67,
   "id": "eb6d8777-9686-4805-84bc-b523e24f29fc",
   "metadata": {},
   "outputs": [
    {
     "name": "stdout",
     "output_type": "stream",
     "text": [
      "[  96  176 1158 ...    0    0    0]\n",
      "(2225, 2442)\n"
     ]
    }
   ],
   "source": [
    "print(padded[0])\n",
    "print(padded.shape)"
   ]
  },
  {
   "cell_type": "code",
   "execution_count": 62,
   "id": "44c75d1e-20e7-498f-9330-aa81143530a7",
   "metadata": {},
   "outputs": [
    {
     "name": "stdout",
     "output_type": "stream",
     "text": [
      "['tech', 'business', 'sport', 'sport', 'entertainment', 'politics', 'politics', 'sport', 'sport', 'entertainment', 'entertainment', 'business', 'business', 'politics', 'sport', 'business', 'politics', 'sport', 'business', 'tech', 'tech', 'tech', 'sport', 'sport', 'tech', 'sport', 'entertainment', 'tech', 'politics', 'entertainment', 'politics', 'tech', 'entertainment', 'entertainment', 'business', 'politics', 'tech', 'entertainment', 'politics', 'business', 'politics', 'sport', 'business', 'sport', 'tech', 'entertainment', 'politics', 'politics', 'politics', 'business', 'sport', 'politics', 'business', 'business', 'sport', 'politics', 'business', 'sport', 'sport', 'business', 'business', 'sport', 'business', 'sport', 'business', 'tech', 'business', 'entertainment', 'tech', 'business', 'politics', 'business', 'politics', 'sport', 'business', 'tech', 'business', 'sport', 'sport', 'business', 'business', 'sport', 'politics', 'business', 'entertainment', 'politics', 'politics', 'business', 'entertainment', 'business', 'sport', 'sport', 'politics', 'sport', 'politics', 'sport', 'business', 'sport', 'business', 'entertainment', 'entertainment', 'sport', 'business', 'politics', 'politics', 'tech', 'sport', 'entertainment', 'sport', 'tech', 'business', 'entertainment', 'sport', 'entertainment', 'sport', 'entertainment', 'entertainment', 'politics', 'sport', 'sport', 'entertainment', 'politics', 'business', 'tech', 'business', 'business', 'tech', 'sport', 'politics', 'sport', 'tech', 'entertainment', 'sport', 'business', 'business', 'tech', 'entertainment', 'tech', 'sport', 'business', 'business', 'business', 'tech', 'sport', 'tech', 'business', 'sport', 'entertainment', 'sport', 'tech', 'sport', 'tech', 'politics', 'business', 'tech', 'entertainment', 'sport', 'business', 'politics', 'business', 'entertainment', 'politics', 'politics', 'entertainment', 'politics', 'business', 'entertainment', 'politics', 'politics', 'entertainment', 'politics', 'sport', 'business', 'politics', 'politics', 'business', 'entertainment', 'sport', 'business', 'business', 'sport', 'tech', 'sport', 'tech', 'tech', 'sport', 'business', 'sport', 'politics', 'entertainment', 'politics', 'business', 'politics', 'business', 'tech', 'politics', 'entertainment', 'politics', 'tech', 'business', 'sport', 'business', 'sport', 'tech', 'entertainment', 'business', 'politics', 'politics', 'entertainment', 'sport', 'entertainment', 'politics', 'sport', 'entertainment', 'sport', 'sport', 'entertainment', 'sport', 'politics', 'politics', 'entertainment', 'tech', 'sport', 'politics', 'business', 'entertainment', 'tech', 'sport', 'tech', 'sport', 'entertainment', 'politics', 'sport', 'entertainment', 'tech', 'business', 'tech', 'business', 'business', 'tech', 'business', 'sport', 'business', 'sport', 'business', 'sport', 'entertainment', 'business', 'business', 'entertainment', 'sport', 'sport', 'politics', 'tech', 'politics', 'politics', 'politics', 'tech', 'sport', 'tech', 'politics', 'business', 'tech', 'entertainment', 'tech', 'sport', 'sport', 'business', 'business', 'politics', 'business', 'tech', 'sport', 'entertainment', 'sport', 'politics', 'tech', 'entertainment', 'business', 'sport', 'entertainment', 'sport', 'tech', 'politics', 'tech', 'business', 'business', 'politics', 'politics', 'sport', 'business', 'tech', 'entertainment', 'politics', 'tech', 'business', 'entertainment', 'sport', 'entertainment', 'sport', 'entertainment', 'politics', 'business', 'sport', 'business', 'sport', 'sport', 'entertainment', 'sport', 'politics', 'politics', 'business', 'entertainment', 'tech', 'business', 'sport', 'business', 'entertainment', 'business', 'business', 'business', 'politics', 'business', 'politics', 'entertainment', 'entertainment', 'business', 'sport', 'business', 'politics', 'business', 'tech', 'entertainment', 'business', 'sport', 'sport', 'entertainment', 'business', 'business', 'politics', 'tech', 'entertainment', 'tech', 'politics', 'business', 'sport', 'politics', 'business', 'entertainment', 'tech', 'entertainment', 'tech', 'politics', 'sport', 'entertainment', 'business', 'politics', 'business', 'business', 'politics', 'sport', 'tech', 'business', 'business', 'entertainment', 'entertainment', 'tech', 'sport', 'business', 'entertainment', 'tech', 'tech', 'entertainment', 'entertainment', 'entertainment', 'politics', 'sport', 'politics', 'tech', 'business', 'entertainment', 'politics', 'business', 'entertainment', 'politics', 'politics', 'sport', 'sport', 'business', 'politics', 'entertainment', 'business', 'sport', 'business', 'business', 'sport', 'business', 'politics', 'politics', 'politics', 'sport', 'tech', 'tech', 'business', 'tech', 'sport', 'entertainment', 'business', 'politics', 'business', 'entertainment', 'business', 'politics', 'entertainment', 'politics', 'business', 'tech', 'business', 'sport', 'sport', 'business', 'sport', 'sport', 'entertainment', 'sport', 'sport', 'sport', 'tech', 'business', 'business', 'business', 'politics', 'sport', 'sport', 'business', 'tech', 'business', 'politics', 'sport', 'politics', 'tech', 'business', 'sport', 'entertainment', 'business', 'politics', 'tech', 'business', 'sport', 'business', 'politics', 'business', 'business', 'sport', 'entertainment', 'tech', 'politics', 'tech', 'business', 'sport', 'business', 'entertainment', 'tech', 'tech', 'business', 'sport', 'sport', 'entertainment', 'politics', 'politics', 'politics', 'sport', 'politics', 'tech', 'tech', 'entertainment', 'politics', 'tech', 'entertainment', 'business', 'sport', 'sport', 'tech', 'business', 'sport', 'sport', 'politics', 'sport', 'sport', 'business', 'sport', 'entertainment', 'tech', 'politics', 'sport', 'politics', 'tech', 'business', 'business', 'business', 'tech', 'business', 'business', 'sport', 'sport', 'sport', 'sport', 'business', 'tech', 'entertainment', 'sport', 'sport', 'tech', 'business', 'tech', 'entertainment', 'politics', 'sport', 'business', 'politics', 'business', 'tech', 'tech', 'politics', 'tech', 'business', 'sport', 'business', 'entertainment', 'sport', 'politics', 'entertainment', 'sport', 'sport', 'politics', 'tech', 'entertainment', 'tech', 'sport', 'politics', 'business', 'entertainment', 'politics', 'business', 'entertainment', 'sport', 'sport', 'tech', 'politics', 'entertainment', 'politics', 'entertainment', 'politics', 'tech', 'politics', 'entertainment', 'sport', 'business', 'sport', 'entertainment', 'sport', 'entertainment', 'tech', 'business', 'sport', 'politics', 'entertainment', 'politics', 'entertainment', 'entertainment', 'entertainment', 'politics', 'entertainment', 'tech', 'politics', 'tech', 'tech', 'sport', 'sport', 'tech', 'tech', 'sport', 'entertainment', 'entertainment', 'sport', 'tech', 'entertainment', 'sport', 'sport', 'tech', 'business', 'politics', 'tech', 'business', 'sport', 'entertainment', 'sport', 'entertainment', 'politics', 'tech', 'entertainment', 'entertainment', 'business', 'entertainment', 'entertainment', 'sport', 'tech', 'tech', 'politics', 'sport', 'tech', 'sport', 'politics', 'politics', 'entertainment', 'tech', 'business', 'tech', 'tech', 'tech', 'business', 'politics', 'politics', 'sport', 'tech', 'business', 'business', 'entertainment', 'entertainment', 'sport', 'tech', 'business', 'tech', 'entertainment', 'sport', 'tech', 'politics', 'tech', 'politics', 'business', 'politics', 'politics', 'business', 'sport', 'tech', 'sport', 'tech', 'politics', 'entertainment', 'tech', 'sport', 'entertainment', 'tech', 'sport', 'politics', 'entertainment', 'sport', 'tech', 'sport', 'sport', 'politics', 'entertainment', 'business', 'politics', 'entertainment', 'business', 'business', 'tech', 'business', 'entertainment', 'tech', 'sport', 'tech', 'politics', 'tech', 'politics', 'business', 'politics', 'entertainment', 'sport', 'business', 'business', 'business', 'entertainment', 'sport', 'business', 'entertainment', 'entertainment', 'sport', 'entertainment', 'politics', 'politics', 'politics', 'sport', 'sport', 'sport', 'tech', 'politics', 'sport', 'politics', 'politics', 'tech', 'politics', 'sport', 'business', 'entertainment', 'sport', 'business', 'business', 'tech', 'business', 'entertainment', 'entertainment', 'entertainment', 'business', 'entertainment', 'entertainment', 'politics', 'tech', 'business', 'sport', 'tech', 'sport', 'sport', 'politics', 'business', 'sport', 'tech', 'business', 'sport', 'tech', 'sport', 'sport', 'entertainment', 'sport', 'business', 'sport', 'business', 'tech', 'politics', 'tech', 'business', 'sport', 'sport', 'business', 'business', 'business', 'business', 'politics', 'sport', 'business', 'tech', 'business', 'sport', 'politics', 'business', 'tech', 'business', 'sport', 'business', 'politics', 'entertainment', 'sport', 'business', 'politics', 'business', 'entertainment', 'business', 'business', 'business', 'sport', 'politics', 'entertainment', 'sport', 'politics', 'sport', 'politics', 'politics', 'business', 'business', 'sport', 'tech', 'entertainment', 'sport', 'entertainment', 'business', 'business', 'business', 'tech', 'sport', 'tech', 'politics', 'tech', 'tech', 'tech', 'sport', 'tech', 'tech', 'entertainment', 'entertainment', 'tech', 'sport', 'entertainment', 'tech', 'sport', 'sport', 'business', 'entertainment', 'tech', 'business', 'sport', 'business', 'politics', 'business', 'entertainment', 'tech', 'business', 'politics', 'business', 'tech', 'sport', 'business', 'entertainment', 'business', 'politics', 'sport', 'entertainment', 'politics', 'sport', 'business', 'sport', 'politics', 'politics', 'sport', 'entertainment', 'entertainment', 'business', 'business', 'sport', 'tech', 'tech', 'sport', 'entertainment', 'tech', 'tech', 'business', 'sport', 'entertainment', 'tech', 'sport', 'sport', 'business', 'entertainment', 'business', 'business', 'business', 'entertainment', 'sport', 'entertainment', 'tech', 'tech', 'tech', 'politics', 'tech', 'tech', 'entertainment', 'entertainment', 'sport', 'sport', 'politics', 'business', 'entertainment', 'sport', 'politics', 'entertainment', 'tech', 'politics', 'tech', 'tech', 'business', 'entertainment', 'politics', 'tech', 'politics', 'politics', 'sport', 'politics', 'politics', 'entertainment', 'tech', 'sport', 'politics', 'sport', 'entertainment', 'politics', 'business', 'business', 'politics', 'sport', 'sport', 'sport', 'entertainment', 'tech', 'tech', 'business', 'entertainment', 'sport', 'politics', 'tech', 'politics', 'entertainment', 'tech', 'tech', 'business', 'business', 'sport', 'business', 'business', 'tech', 'politics', 'entertainment', 'business', 'business', 'business', 'business', 'business', 'tech', 'sport', 'politics', 'tech', 'tech', 'business', 'business', 'entertainment', 'politics', 'entertainment', 'sport', 'tech', 'sport', 'entertainment', 'sport', 'tech', 'sport', 'business', 'sport', 'politics', 'politics', 'entertainment', 'business', 'sport', 'politics', 'politics', 'sport', 'entertainment', 'politics', 'business', 'tech', 'sport', 'business', 'business', 'business', 'entertainment', 'entertainment', 'tech', 'tech', 'business', 'business', 'entertainment', 'sport', 'business', 'entertainment', 'tech', 'tech', 'business', 'business', 'sport', 'sport', 'sport', 'politics', 'politics', 'sport', 'politics', 'sport', 'business', 'entertainment', 'sport', 'tech', 'entertainment', 'sport', 'sport', 'business', 'business', 'tech', 'tech', 'sport', 'entertainment', 'sport', 'entertainment', 'sport', 'entertainment', 'politics', 'entertainment', 'entertainment', 'tech', 'entertainment', 'business', 'business', 'politics', 'sport', 'politics', 'tech', 'business', 'politics', 'sport', 'politics', 'sport', 'entertainment', 'sport', 'politics', 'sport', 'sport', 'tech', 'entertainment', 'sport', 'politics', 'sport', 'sport', 'business', 'tech', 'entertainment', 'politics', 'tech', 'entertainment', 'politics', 'entertainment', 'politics', 'entertainment', 'entertainment', 'tech', 'entertainment', 'politics', 'entertainment', 'entertainment', 'tech', 'tech', 'sport', 'sport', 'entertainment', 'entertainment', 'tech', 'entertainment', 'politics', 'tech', 'entertainment', 'business', 'tech', 'sport', 'business', 'entertainment', 'entertainment', 'tech', 'entertainment', 'tech', 'business', 'entertainment', 'sport', 'entertainment', 'business', 'sport', 'business', 'sport', 'politics', 'tech', 'entertainment', 'politics', 'business', 'entertainment', 'entertainment', 'politics', 'business', 'entertainment', 'sport', 'politics', 'sport', 'business', 'business', 'business', 'business', 'business', 'entertainment', 'tech', 'sport', 'entertainment', 'entertainment', 'business', 'sport', 'tech', 'tech', 'entertainment', 'sport', 'business', 'politics', 'business', 'politics', 'business', 'business', 'entertainment', 'politics', 'business', 'business', 'tech', 'politics', 'sport', 'tech', 'entertainment', 'politics', 'business', 'business', 'sport', 'entertainment', 'politics', 'tech', 'business', 'business', 'politics', 'business', 'sport', 'entertainment', 'sport', 'entertainment', 'tech', 'politics', 'business', 'business', 'tech', 'business', 'business', 'sport', 'business', 'tech', 'entertainment', 'politics', 'business', 'politics', 'business', 'sport', 'tech', 'business', 'politics', 'entertainment', 'tech', 'business', 'entertainment', 'sport', 'politics', 'politics', 'sport', 'politics', 'business', 'tech', 'entertainment', 'sport', 'sport', 'tech', 'business', 'sport', 'entertainment', 'tech', 'sport', 'politics', 'sport', 'business', 'business', 'business', 'politics', 'entertainment', 'sport', 'politics', 'tech', 'business', 'business', 'tech', 'entertainment', 'entertainment', 'tech', 'tech', 'sport', 'sport', 'entertainment', 'tech', 'entertainment', 'sport', 'politics', 'tech', 'business', 'sport', 'entertainment', 'business', 'business', 'entertainment', 'sport', 'business', 'sport', 'tech', 'politics', 'politics', 'tech', 'entertainment', 'politics', 'entertainment', 'business', 'business', 'politics', 'sport', 'tech', 'sport', 'sport', 'sport', 'politics', 'business', 'sport', 'business', 'tech', 'sport', 'business', 'business', 'sport', 'politics', 'tech', 'sport', 'business', 'tech', 'sport', 'sport', 'business', 'business', 'business', 'business', 'politics', 'entertainment', 'tech', 'business', 'business', 'sport', 'business', 'entertainment', 'business', 'entertainment', 'sport', 'politics', 'business', 'business', 'tech', 'entertainment', 'business', 'business', 'business', 'politics', 'business', 'politics', 'tech', 'entertainment', 'politics', 'entertainment', 'sport', 'tech', 'politics', 'business', 'tech', 'sport', 'business', 'business', 'entertainment', 'tech', 'business', 'business', 'sport', 'sport', 'entertainment', 'sport', 'politics', 'sport', 'business', 'sport', 'business', 'politics', 'politics', 'business', 'politics', 'tech', 'entertainment', 'sport', 'business', 'entertainment', 'sport', 'politics', 'politics', 'tech', 'entertainment', 'business', 'politics', 'politics', 'sport', 'tech', 'business', 'sport', 'entertainment', 'sport', 'entertainment', 'sport', 'business', 'sport', 'politics', 'entertainment', 'tech', 'business', 'sport', 'politics', 'tech', 'sport', 'entertainment', 'business', 'sport', 'entertainment', 'sport', 'tech', 'sport', 'tech', 'politics', 'sport', 'business', 'entertainment', 'tech', 'tech', 'politics', 'tech', 'entertainment', 'tech', 'sport', 'business', 'tech', 'business', 'entertainment', 'sport', 'tech', 'politics', 'politics', 'politics', 'politics', 'entertainment', 'entertainment', 'entertainment', 'business', 'politics', 'politics', 'sport', 'sport', 'tech', 'sport', 'politics', 'business', 'business', 'tech', 'sport', 'tech', 'business', 'tech', 'politics', 'politics', 'sport', 'business', 'politics', 'sport', 'business', 'tech', 'business', 'business', 'entertainment', 'entertainment', 'sport', 'business', 'tech', 'tech', 'politics', 'business', 'politics', 'sport', 'entertainment', 'entertainment', 'politics', 'politics', 'business', 'business', 'tech', 'tech', 'sport', 'sport', 'politics', 'tech', 'sport', 'tech', 'business', 'sport', 'business', 'politics', 'sport', 'entertainment', 'business', 'tech', 'politics', 'entertainment', 'tech', 'business', 'sport', 'entertainment', 'tech', 'tech', 'entertainment', 'politics', 'tech', 'entertainment', 'sport', 'entertainment', 'sport', 'sport', 'sport', 'politics', 'tech', 'sport', 'business', 'sport', 'sport', 'business', 'tech', 'sport', 'business', 'entertainment', 'politics', 'tech', 'sport', 'politics', 'tech', 'entertainment', 'politics', 'sport', 'politics', 'tech', 'business', 'entertainment', 'sport', 'politics', 'business', 'tech', 'tech', 'tech', 'politics', 'business', 'sport', 'politics', 'entertainment', 'tech', 'entertainment', 'sport', 'tech', 'business', 'politics', 'entertainment', 'tech', 'politics', 'sport', 'sport', 'business', 'entertainment', 'business', 'business', 'politics', 'business', 'business', 'politics', 'tech', 'entertainment', 'politics', 'entertainment', 'entertainment', 'business', 'politics', 'sport', 'politics', 'entertainment', 'sport', 'entertainment', 'politics', 'entertainment', 'entertainment', 'entertainment', 'business', 'sport', 'politics', 'sport', 'entertainment', 'tech', 'tech', 'business', 'politics', 'entertainment', 'business', 'sport', 'business', 'politics', 'politics', 'business', 'sport', 'tech', 'tech', 'tech', 'business', 'politics', 'politics', 'business', 'sport', 'sport', 'entertainment', 'business', 'sport', 'sport', 'politics', 'politics', 'politics', 'entertainment', 'politics', 'business', 'tech', 'business', 'politics', 'entertainment', 'entertainment', 'business', 'sport', 'politics', 'entertainment', 'sport', 'entertainment', 'politics', 'politics', 'business', 'politics', 'sport', 'entertainment', 'entertainment', 'tech', 'tech', 'tech', 'tech', 'politics', 'tech', 'business', 'tech', 'sport', 'sport', 'entertainment', 'business', 'tech', 'entertainment', 'business', 'tech', 'sport', 'tech', 'entertainment', 'entertainment', 'politics', 'politics', 'sport', 'business', 'business', 'tech', 'entertainment', 'sport', 'politics', 'business', 'tech', 'entertainment', 'politics', 'sport', 'entertainment', 'politics', 'politics', 'tech', 'sport', 'politics', 'business', 'politics', 'entertainment', 'tech', 'sport', 'politics', 'entertainment', 'entertainment', 'business', 'sport', 'tech', 'tech', 'sport', 'entertainment', 'tech', 'politics', 'tech', 'sport', 'politics', 'politics', 'sport', 'entertainment', 'sport', 'politics', 'sport', 'tech', 'entertainment', 'sport', 'entertainment', 'business', 'business', 'entertainment', 'entertainment', 'entertainment', 'tech', 'sport', 'business', 'business', 'politics', 'politics', 'business', 'politics', 'entertainment', 'sport', 'sport', 'tech', 'politics', 'sport', 'business', 'sport', 'business', 'tech', 'sport', 'sport', 'business', 'entertainment', 'sport', 'sport', 'tech', 'sport', 'business', 'politics', 'business', 'entertainment', 'tech', 'entertainment', 'politics', 'business', 'entertainment', 'politics', 'entertainment', 'politics', 'politics', 'business', 'sport', 'sport', 'sport', 'tech', 'tech', 'sport', 'politics', 'entertainment', 'tech', 'sport', 'entertainment', 'business', 'entertainment', 'politics', 'business', 'sport', 'tech', 'business', 'sport', 'politics', 'business', 'entertainment', 'entertainment', 'entertainment', 'politics', 'entertainment', 'politics', 'entertainment', 'sport', 'entertainment', 'sport', 'politics', 'politics', 'business', 'politics', 'tech', 'sport', 'tech', 'sport', 'business', 'politics', 'tech', 'entertainment', 'entertainment', 'politics', 'entertainment', 'politics', 'sport', 'sport', 'politics', 'business', 'tech', 'sport', 'politics', 'politics', 'entertainment', 'sport', 'politics', 'politics', 'business', 'tech', 'tech', 'business', 'tech', 'sport', 'sport', 'business', 'politics', 'business', 'tech', 'sport', 'tech', 'politics', 'entertainment', 'sport', 'business', 'sport', 'entertainment', 'tech', 'tech', 'sport', 'politics', 'sport', 'business', 'sport', 'business', 'sport', 'sport', 'entertainment', 'entertainment', 'business', 'tech', 'tech', 'business', 'tech', 'business', 'business', 'sport', 'sport', 'politics', 'sport', 'tech', 'sport', 'tech', 'sport', 'sport', 'business', 'business', 'tech', 'sport', 'business', 'tech', 'tech', 'politics', 'sport', 'business', 'entertainment', 'entertainment', 'tech', 'politics', 'sport', 'sport', 'tech', 'business', 'tech', 'entertainment', 'entertainment', 'politics', 'politics', 'business', 'entertainment', 'sport', 'entertainment', 'entertainment', 'business', 'sport', 'politics', 'tech', 'business', 'sport', 'entertainment', 'tech', 'politics', 'politics', 'sport', 'sport', 'business', 'business', 'business', 'business', 'business', 'entertainment', 'business', 'politics', 'politics', 'tech', 'tech', 'entertainment', 'politics', 'entertainment', 'business', 'politics', 'sport', 'sport', 'business', 'tech', 'business', 'tech', 'sport', 'business', 'business', 'politics', 'sport', 'sport', 'politics', 'politics', 'entertainment', 'entertainment', 'politics', 'business', 'politics', 'politics', 'business', 'tech', 'politics', 'politics', 'politics', 'politics', 'politics', 'entertainment', 'entertainment', 'tech', 'politics', 'sport', 'politics', 'sport', 'tech', 'sport', 'sport', 'sport', 'entertainment', 'tech', 'entertainment', 'tech', 'sport', 'tech', 'sport', 'sport', 'entertainment', 'entertainment', 'business', 'entertainment', 'entertainment', 'politics', 'business', 'sport', 'tech', 'tech', 'politics', 'business', 'sport', 'business', 'entertainment', 'sport', 'politics', 'entertainment', 'sport', 'sport', 'business', 'politics', 'tech', 'tech', 'business', 'business', 'sport', 'politics', 'entertainment', 'sport', 'sport', 'politics', 'entertainment', 'tech', 'sport', 'entertainment', 'business', 'politics', 'sport', 'politics', 'tech', 'entertainment', 'sport', 'politics', 'business', 'entertainment', 'politics', 'entertainment', 'politics', 'sport', 'politics', 'business', 'business', 'politics', 'business', 'tech', 'sport', 'business', 'entertainment', 'business', 'sport', 'sport', 'entertainment', 'tech', 'politics', 'tech', 'politics', 'politics', 'sport', 'sport', 'sport', 'business', 'tech', 'entertainment', 'business', 'sport', 'business', 'sport', 'business', 'tech', 'business', 'business', 'business', 'business', 'sport', 'sport', 'sport', 'business', 'business', 'entertainment', 'business', 'business', 'business', 'sport', 'sport', 'sport', 'tech', 'business', 'sport', 'sport', 'sport', 'business', 'entertainment', 'tech', 'tech', 'tech', 'politics', 'business', 'business', 'tech', 'business', 'tech', 'sport', 'sport', 'politics', 'politics', 'politics', 'sport', 'sport', 'politics', 'politics', 'tech', 'business', 'sport', 'sport', 'sport', 'sport', 'business', 'sport', 'business', 'business', 'business', 'business', 'sport', 'politics', 'sport', 'tech', 'tech', 'sport', 'tech', 'business', 'entertainment', 'business', 'sport', 'business', 'tech', 'tech', 'politics', 'entertainment', 'business', 'entertainment', 'business', 'tech', 'politics', 'entertainment', 'politics', 'entertainment', 'entertainment', 'tech', 'business', 'tech', 'tech', 'business', 'politics', 'sport', 'entertainment', 'business', 'politics', 'entertainment', 'business', 'tech', 'sport', 'tech', 'politics', 'sport', 'politics', 'business', 'politics', 'politics', 'business', 'business', 'business', 'tech', 'politics', 'business', 'politics', 'business', 'entertainment', 'politics', 'sport', 'politics', 'politics', 'sport', 'entertainment', 'tech', 'tech', 'business', 'tech', 'sport', 'business', 'business', 'politics', 'sport', 'tech', 'tech', 'tech', 'sport', 'entertainment', 'sport', 'politics', 'business', 'politics', 'politics', 'entertainment', 'tech', 'business', 'tech', 'sport', 'entertainment', 'entertainment', 'sport', 'business', 'entertainment', 'tech', 'tech', 'sport', 'entertainment', 'business', 'politics', 'politics', 'politics', 'tech', 'tech', 'business', 'politics', 'business', 'politics', 'politics', 'entertainment', 'sport', 'tech', 'business', 'tech', 'entertainment', 'tech', 'tech', 'sport', 'politics', 'sport', 'sport', 'politics', 'entertainment', 'entertainment', 'business', 'politics', 'politics', 'sport', 'business', 'business', 'tech', 'business', 'tech', 'tech', 'sport', 'business', 'politics', 'sport', 'business', 'business', 'sport', 'tech', 'sport', 'tech', 'entertainment', 'sport', 'sport', 'entertainment', 'business', 'tech', 'sport', 'sport', 'politics', 'tech', 'business', 'politics', 'sport', 'sport', 'politics', 'entertainment', 'tech', 'tech', 'tech', 'business', 'sport', 'entertainment', 'entertainment', 'tech', 'business', 'politics', 'tech', 'sport', 'sport', 'tech', 'tech', 'politics', 'business', 'sport', 'entertainment', 'entertainment', 'sport', 'entertainment', 'tech', 'tech', 'business', 'business', 'business', 'sport', 'sport', 'tech', 'sport', 'business', 'tech', 'business', 'business', 'sport', 'business', 'politics', 'business', 'business', 'tech', 'business', 'tech', 'politics', 'tech', 'entertainment', 'politics', 'tech', 'entertainment', 'sport', 'politics', 'entertainment', 'business', 'tech', 'business', 'tech', 'entertainment', 'tech', 'sport', 'business', 'business', 'politics', 'entertainment', 'politics', 'sport']\n"
     ]
    }
   ],
   "source": [
    "tokenize_labels = Tokenizer()\n",
    "tokenize_"
   ]
  },
  {
   "cell_type": "code",
   "execution_count": null,
   "id": "f3b44fa7-504e-44ce-8e62-e279ff1b1ab8",
   "metadata": {},
   "outputs": [],
   "source": []
  }
 ],
 "metadata": {
  "kernelspec": {
   "display_name": "Python 3",
   "language": "python",
   "name": "python3"
  },
  "language_info": {
   "codemirror_mode": {
    "name": "ipython",
    "version": 3
   },
   "file_extension": ".py",
   "mimetype": "text/x-python",
   "name": "python",
   "nbconvert_exporter": "python",
   "pygments_lexer": "ipython3",
   "version": "3.8.10"
  }
 },
 "nbformat": 4,
 "nbformat_minor": 5
}
